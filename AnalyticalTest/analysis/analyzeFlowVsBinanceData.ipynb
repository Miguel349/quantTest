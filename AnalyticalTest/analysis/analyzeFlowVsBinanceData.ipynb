{
 "cells": [
  {
   "cell_type": "code",
   "execution_count": 4,
   "metadata": {
    "collapsed": true,
    "ExecuteTime": {
     "end_time": "2024-11-24T19:55:55.964496Z",
     "start_time": "2024-11-24T19:55:33.094944Z"
    }
   },
   "outputs": [],
   "source": [
    "import pandas as pd\n",
    "import matplotlib.pyplot as plt\n",
    "\n",
    "# Load the data from CSV files, selecting only the relevant columns\n",
    "flow_df = pd.read_csv(\n",
    "    '../csvs/marketData/market1InchFlowBNBUSDT.csv',\n",
    "    usecols=['block_time', 'price']  # Only read block_time and price columns\n",
    ")\n",
    "\n",
    "agg_trades_df = pd.read_csv(\n",
    "    '../csvs/marketData/aggTradesBinance_BNBUSDT.csv',\n",
    "    usecols=['datetime', 'price'])  # Only read datetime) and price columns"
   ]
  },
  {
   "cell_type": "code",
   "execution_count": 6,
   "outputs": [
    {
     "name": "stdout",
     "output_type": "stream",
     "text": [
      "Before printing lengths of DataFrames\n",
      "1932778\n",
      "14000000\n",
      "Flow Data (first few rows):\n",
      "                                price\n",
      "block_time                           \n",
      "2021-02-25 07:09:55+00:00  247.225685\n",
      "2021-02-25 07:12:22+00:00  246.711004\n",
      "2021-02-25 14:30:34+00:00  212.908969\n",
      "2021-02-25 14:32:21+00:00  229.646102\n",
      "2021-02-25 14:35:30+00:00  256.653251\n",
      "Agg Trades Data (first few rows):\n",
      "                                  price\n",
      "datetime                               \n",
      "2022-12-24 15:34:36.131000+00:00  244.2\n",
      "2022-12-24 15:34:37.933000+00:00  244.1\n",
      "2022-12-24 15:34:38.163000+00:00  244.2\n",
      "2022-12-24 15:34:39.793000+00:00  244.2\n",
      "2022-12-24 15:34:48.048000+00:00  244.1\n",
      "Flow Data Range: 2021-02-25 to 2024-11-24\n",
      "Agg Trades Data Range: 2022-12-24 to 2023-03-22\n",
      "Missing data for 2022-12-24, skipping...\n",
      "Missing data for 2022-12-25, skipping...\n",
      "Missing data for 2022-12-26, skipping...\n",
      "Missing data for 2022-12-27, skipping...\n",
      "Missing data for 2022-12-28, skipping...\n"
     ]
    },
    {
     "ename": "KeyboardInterrupt",
     "evalue": "",
     "output_type": "error",
     "traceback": [
      "\u001B[0;31m---------------------------------------------------------------------------\u001B[0m",
      "\u001B[0;31mKeyboardInterrupt\u001B[0m                         Traceback (most recent call last)",
      "    \u001B[0;31m[... skipping hidden 1 frame]\u001B[0m\n",
      "Cell \u001B[0;32mIn[6], line 45\u001B[0m\n\u001B[1;32m     44\u001B[0m flow_day_data \u001B[38;5;241m=\u001B[39m flow_df_indexed[flow_df_indexed\u001B[38;5;241m.\u001B[39mindex\u001B[38;5;241m.\u001B[39mdate \u001B[38;5;241m==\u001B[39m day]\n\u001B[0;32m---> 45\u001B[0m agg_trades_day_data \u001B[38;5;241m=\u001B[39m agg_trades_df_indexed[\u001B[43magg_trades_df_indexed\u001B[49m\u001B[38;5;241;43m.\u001B[39;49m\u001B[43mindex\u001B[49m\u001B[38;5;241;43m.\u001B[39;49m\u001B[43mdate\u001B[49m \u001B[38;5;241m==\u001B[39m day]\n\u001B[1;32m     47\u001B[0m \u001B[38;5;66;03m# If both datasets have data for the current day, plot it\u001B[39;00m\n",
      "File \u001B[0;32m~/PycharmProjects/pythonProject1/venv/lib/python3.12/site-packages/pandas/core/indexes/extension.py:68\u001B[0m, in \u001B[0;36m_inherit_from_data.<locals>.fget\u001B[0;34m(self)\u001B[0m\n\u001B[1;32m     67\u001B[0m \u001B[38;5;28;01mdef\u001B[39;00m \u001B[38;5;21mfget\u001B[39m(\u001B[38;5;28mself\u001B[39m):\n\u001B[0;32m---> 68\u001B[0m     result \u001B[38;5;241m=\u001B[39m \u001B[38;5;28;43mgetattr\u001B[39;49m\u001B[43m(\u001B[49m\u001B[38;5;28;43mself\u001B[39;49m\u001B[38;5;241;43m.\u001B[39;49m\u001B[43m_data\u001B[49m\u001B[43m,\u001B[49m\u001B[43m \u001B[49m\u001B[43mname\u001B[49m\u001B[43m)\u001B[49m\n\u001B[1;32m     69\u001B[0m     \u001B[38;5;28;01mif\u001B[39;00m wrap:\n",
      "File \u001B[0;32m~/PycharmProjects/pythonProject1/venv/lib/python3.12/site-packages/pandas/core/arrays/datetimes.py:1471\u001B[0m, in \u001B[0;36mDatetimeArray.date\u001B[0;34m(self)\u001B[0m\n\u001B[1;32m   1469\u001B[0m timestamps \u001B[38;5;241m=\u001B[39m \u001B[38;5;28mself\u001B[39m\u001B[38;5;241m.\u001B[39m_local_timestamps()\n\u001B[0;32m-> 1471\u001B[0m \u001B[38;5;28;01mreturn\u001B[39;00m \u001B[43mints_to_pydatetime\u001B[49m\u001B[43m(\u001B[49m\u001B[43mtimestamps\u001B[49m\u001B[43m,\u001B[49m\u001B[43m \u001B[49m\u001B[43mbox\u001B[49m\u001B[38;5;241;43m=\u001B[39;49m\u001B[38;5;124;43m\"\u001B[39;49m\u001B[38;5;124;43mdate\u001B[39;49m\u001B[38;5;124;43m\"\u001B[39;49m\u001B[43m,\u001B[49m\u001B[43m \u001B[49m\u001B[43mreso\u001B[49m\u001B[38;5;241;43m=\u001B[39;49m\u001B[38;5;28;43mself\u001B[39;49m\u001B[38;5;241;43m.\u001B[39;49m\u001B[43m_creso\u001B[49m\u001B[43m)\u001B[49m\n",
      "\u001B[0;31mKeyboardInterrupt\u001B[0m: ",
      "\nDuring handling of the above exception, another exception occurred:\n",
      "\u001B[0;31mKeyboardInterrupt\u001B[0m                         Traceback (most recent call last)",
      "File \u001B[0;32m~/PycharmProjects/pythonProject1/venv/lib/python3.12/site-packages/IPython/core/interactiveshell.py:3598\u001B[0m, in \u001B[0;36mInteractiveShell.run_code\u001B[0;34m(self, code_obj, result, async_)\u001B[0m\n\u001B[1;32m   3596\u001B[0m \u001B[38;5;28;01mexcept\u001B[39;00m:\n\u001B[1;32m   3597\u001B[0m     \u001B[38;5;28;01mif\u001B[39;00m result \u001B[38;5;129;01mis\u001B[39;00m \u001B[38;5;129;01mnot\u001B[39;00m \u001B[38;5;28;01mNone\u001B[39;00m:\n\u001B[0;32m-> 3598\u001B[0m         result\u001B[38;5;241m.\u001B[39merror_in_exec \u001B[38;5;241m=\u001B[39m \u001B[43msys\u001B[49m\u001B[38;5;241;43m.\u001B[39;49m\u001B[43mexc_info\u001B[49m\u001B[43m(\u001B[49m\u001B[43m)\u001B[49m[\u001B[38;5;241m1\u001B[39m]\n\u001B[1;32m   3599\u001B[0m     \u001B[38;5;28mself\u001B[39m\u001B[38;5;241m.\u001B[39mshowtraceback(running_compiled_code\u001B[38;5;241m=\u001B[39m\u001B[38;5;28;01mTrue\u001B[39;00m)\n\u001B[1;32m   3600\u001B[0m \u001B[38;5;28;01melse\u001B[39;00m:\n",
      "\u001B[0;31mKeyboardInterrupt\u001B[0m: "
     ]
    }
   ],
   "source": [
    "import pandas as pd\n",
    "import matplotlib.pyplot as plt\n",
    "import time\n",
    "\n",
    "# Convert 'block_time' and 'datetime' columns to datetime\n",
    "flow_df['block_time'] = pd.to_datetime(flow_df['block_time'], utc=True)\n",
    "agg_trades_df['datetime'] = pd.to_datetime(agg_trades_df['datetime'], utc=True)\n",
    "\n",
    "# Convert relevant columns to numeric, forcing errors to NaN\n",
    "flow_df['price'] = pd.to_numeric(flow_df['price'], errors='coerce')\n",
    "agg_trades_df['price'] = pd.to_numeric(agg_trades_df['price'], errors='coerce')\n",
    "\n",
    "# Drop rows with NaN values in the 'price' column\n",
    "flow_df.dropna(subset=['price'], inplace=True)\n",
    "agg_trades_df.dropna(subset=['price'], inplace=True)\n",
    "\n",
    "# Set the datetime columns as the index without modifying the original DataFrames\n",
    "flow_df_indexed = flow_df.set_index('block_time', inplace=False)\n",
    "agg_trades_df_indexed = agg_trades_df.set_index('datetime', inplace=False)\n",
    "\n",
    "# Debugging: Check the first few rows of each dataset to ensure data is loaded correctly\n",
    "print(\"Flow data (first 5 rows):\")\n",
    "print(flow_df_indexed.head())\n",
    "\n",
    "print(\"Agg Trades data (first 5 rows):\")\n",
    "print(agg_trades_df_indexed.head())\n",
    "\n",
    "# Plot the data day by day (no resampling)\n",
    "for day in flow_df_indexed.index.date:\n",
    "    print(f\"Processing day: {day}\")\n",
    "\n",
    "    # Filter data for the current day\n",
    "    flow_day_data = flow_df_indexed[flow_df_indexed.index.date == day]\n",
    "    agg_trades_day_data = agg_trades_df_indexed[agg_trades_df_indexed.index.date == day]\n",
    "\n",
    "    # Print the data being plotted for debugging\n",
    "    print(f\"flow_day_data: {flow_day_data[['price']]}\")\n",
    "    print(f\"agg_trades_day_data: {agg_trades_day_data[['price']]}\")\n",
    "\n",
    "    # Ensure there is data for the given day in both DataFrames\n",
    "    if flow_day_data.empty or agg_trades_day_data.empty:\n",
    "        print(f\"Missing price data for {day}, skipping...\")\n",
    "        continue\n",
    "\n",
    "    # Create the plot for the day\n",
    "    plt.figure(figsize=(14, 7))\n",
    "\n",
    "    # Plot market1InchFlowBNBUSDT (flow_df) for the current day (starting with first data point of flow)\n",
    "    plt.plot(flow_day_data.index, flow_day_data['price'], label='market1InchFlowBNBUSDT', color='blue')\n",
    "\n",
    "    # Plot aggTradesBinance_BNBUSDT (agg_trades_df) for the current day (align by index with flow_df)\n",
    "    plt.plot(agg_trades_day_data.index, agg_trades_day_data['price'], label='aggTradesBinance_BNBUSDT', color='red')\n",
    "\n",
    "    # Add labels and legend\n",
    "    plt.xlabel('Time')\n",
    "    plt.ylabel('Price')\n",
    "    plt.title(f'Price Comparison for {day.strftime(\"%B %d, %Y\")}')\n",
    "    plt.legend()\n",
    "\n",
    "    # Show the plot\n",
    "    plt.show()\n",
    "\n",
    "    # Pause for 10 seconds between plots\n",
    "    time.sleep(10)\n",
    "\n"
   ],
   "metadata": {
    "collapsed": false,
    "ExecuteTime": {
     "end_time": "2024-11-25T19:58:13.281587Z",
     "start_time": "2024-11-25T19:57:43.779975Z"
    }
   }
  },
  {
   "cell_type": "code",
   "execution_count": null,
   "outputs": [],
   "source": [],
   "metadata": {
    "collapsed": false
   }
  }
 ],
 "metadata": {
  "kernelspec": {
   "display_name": "Python 3",
   "language": "python",
   "name": "python3"
  },
  "language_info": {
   "codemirror_mode": {
    "name": "ipython",
    "version": 2
   },
   "file_extension": ".py",
   "mimetype": "text/x-python",
   "name": "python",
   "nbconvert_exporter": "python",
   "pygments_lexer": "ipython2",
   "version": "2.7.6"
  }
 },
 "nbformat": 4,
 "nbformat_minor": 0
}
