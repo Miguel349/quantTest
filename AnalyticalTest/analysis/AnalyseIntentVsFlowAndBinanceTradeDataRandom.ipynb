{
 "cells": [
  {
   "cell_type": "code",
   "execution_count": 2,
   "metadata": {
    "collapsed": true,
    "ExecuteTime": {
     "end_time": "2024-11-24T18:44:12.401210Z",
     "start_time": "2024-11-24T18:43:32.465054Z"
    }
   },
   "outputs": [],
   "source": [
    "# Import necessary libraries\n",
    "import pandas as pd\n",
    "import matplotlib.pyplot as plt\n",
    "\n",
    "# Load the data from CSV files\n",
    "intent_flow_df = pd.read_csv('../csvs/marketData/market1InchIntentFlowBNBUSDT.csv')\n",
    "flow_df = pd.read_csv('../csvs/marketData/market1InchFlowBNBUSDT.csv')\n",
    "agg_trades_df = pd.read_csv('../csvs/marketData/aggTradesBinance_BNBUSDT.csv')\n",
    "\n",
    "# Convert 'block_time' and 'datetime' columns to datetime\n",
    "intent_flow_df['block_time'] = pd.to_datetime(intent_flow_df['block_time'], utc=True)\n",
    "flow_df['block_time'] = pd.to_datetime(flow_df['block_time'], utc=True)\n",
    "agg_trades_df['datetime'] = pd.to_datetime(agg_trades_df['datetime'], utc=True)"
   ]
  },
  {
   "cell_type": "code",
   "execution_count": 0,
   "outputs": [],
   "source": [
    "# Select the first 20 entries for intent_flow_df\n",
    "filtered_intent_flow_df = intent_flow_df.sample(n=100, random_state=1)\n",
    "\n",
    "for i, row in filtered_intent_flow_df.iterrows():\n",
    "    start_time = row['block_time']\n",
    "    end_time = start_time + pd.Timedelta(minutes=4)\n",
    "\n",
    "    filtered_flow_df = flow_df[(flow_df['block_time'] >= start_time) & (flow_df['block_time'] <= end_time)]\n",
    "    filtered_agg_trades_df = agg_trades_df[(agg_trades_df['datetime'] >= start_time) & (agg_trades_df['datetime'] <= end_time)].copy()\n",
    "\n",
    "    # Calculate the spread as a percentage of the price\n",
    "    spread_percentage = 0.0002\n",
    "    filtered_agg_trades_df.loc[:, 'price_with_spread'] = filtered_agg_trades_df['price'] * (1 + spread_percentage)\n",
    "\n",
    "    # Plot the data\n",
    "    plt.figure(figsize=(14, 7))\n",
    "\n",
    "    # Plot market1InchIntentFlowBNBUSDT\n",
    "    plt.plot(row['block_time'], row['price'], 'ro', label='market1InchIntentFlowBNBUSDT')\n",
    "\n",
    "    # Plot market1InchFlowBNBUSDT\n",
    "    plt.plot(filtered_flow_df['block_time'], filtered_flow_df['price'], label='market1InchFlowBNBUSDT')\n",
    "\n",
    "    # Plot aggTradesBinance_BNBUSDT\n",
    "    plt.plot(filtered_agg_trades_df['datetime'], filtered_agg_trades_df['price'], label='aggTradesBinance_BNBUSDT')\n",
    "\n",
    "    # Plot aggTradesBinance_BNBUSDT with spread\n",
    "    plt.plot(filtered_agg_trades_df['datetime'], filtered_agg_trades_df['price_with_spread'], label='aggTradesBinance_BNBUSDT with Spread')\n",
    "\n",
    "    # Add labels and legend\n",
    "    plt.xlabel('Time')\n",
    "    plt.ylabel('Price')\n",
    "    plt.title(f'Price Comparison for Entry {i+1}')\n",
    "    plt.legend()\n",
    "\n",
    "    # Show the plot\n",
    "    plt.show()"
   ],
   "metadata": {
    "collapsed": false
   }
  },
  {
   "cell_type": "code",
   "execution_count": 4,
   "outputs": [
    {
     "name": "stdout",
     "output_type": "stream",
     "text": [
      "First date: 2022-12-24 15:34:36.131000+00:00\n",
      "Last date: 2023-02-07 04:18:33.288000+00:00\n"
     ]
    }
   ],
   "source": [
    "import pandas as pd\n",
    "\n",
    "# Load the data from the CSV file\n",
    "agg_trades_df = pd.read_csv('../csvs/marketData/aggTradesBinance_BNBUSDT.csv')\n",
    "\n",
    "# Convert 'datetime' column to datetime\n",
    "agg_trades_df['datetime'] = pd.to_datetime(agg_trades_df['datetime'], utc=True)\n",
    "\n",
    "# Get the first and last date\n",
    "first_date = agg_trades_df['datetime'].min()\n",
    "last_date = agg_trades_df['datetime'].max()\n",
    "\n",
    "print(f\"First date: {first_date}\")\n",
    "print(f\"Last date: {last_date}\")"
   ],
   "metadata": {
    "collapsed": false,
    "ExecuteTime": {
     "end_time": "2024-11-24T18:47:52.372034Z",
     "start_time": "2024-11-24T18:47:36.979364Z"
    }
   }
  },
  {
   "cell_type": "code",
   "execution_count": null,
   "outputs": [],
   "source": [],
   "metadata": {
    "collapsed": false
   }
  }
 ],
 "metadata": {
  "kernelspec": {
   "display_name": "Python 3",
   "language": "python",
   "name": "python3"
  },
  "language_info": {
   "codemirror_mode": {
    "name": "ipython",
    "version": 2
   },
   "file_extension": ".py",
   "mimetype": "text/x-python",
   "name": "python",
   "nbconvert_exporter": "python",
   "pygments_lexer": "ipython2",
   "version": "2.7.6"
  }
 },
 "nbformat": 4,
 "nbformat_minor": 0
}
